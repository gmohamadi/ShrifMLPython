import matplotlib.pyplot as plt
import pandas as pd
import numpy as np
import math
x = [5, 3, -1, 2, 6]
y = [14, 6, -5.5, 3.5, 18]
X, Y, XiYi, Xi2 ,J= 0, 0, 0, 0, 0
n = len(x)
for i in range(n):
  X = X + x[i]
  Y = Y + y[i]
  XiYi = XiYi + x[i] * y[i]
  Xi2 = Xi2 + x[i] ** 2
print(n, X, Y, XiYi, Xi2)
w1 = (n * XiYi - X * Y) / (n * Xi2 - X**2)
print(w1)
w0 = (Y-w1*X)/n
print(w0)
J = J+ w0
J = np.multiply(w1 , x)
Jw0w1 = [item * w1 for item in x]
Jw0w1 = [item +w0 for item in Jw0w1]
J = [item**2 for item in x]
plt.plot(x,y,'ro',x , J,'r--',x,Jw0w1,'g*')
plt.show()
